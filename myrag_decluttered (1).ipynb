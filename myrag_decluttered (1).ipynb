{
  "cells": [
    {
      "cell_type": "code",
      "execution_count": null,
      "metadata": {
        "colab": {
          "base_uri": "https://localhost:8080/"
        },
        "id": "lVzUwlTAObxT",
        "outputId": "d5414087-1c47-4012-f441-32325754d7a6"
      },
      "outputs": [
        {
          "name": "stdout",
          "output_type": "stream",
          "text": [
            "✅ Setup complete!\n"
          ]
        }
      ],
      "source": [
        "# Setup Environment and Install Packages\n",
        "import os\n",
        "os.makedirs('rag_chatbot', exist_ok=True)\n",
        "os.makedirs('rag_chatbot/docs', exist_ok=True)\n",
        "os.chdir('/content/rag_chatbot')\n",
        "\n",
        "!pip install -q google-generativeai langchain langchain-google-genai chromadb PyMuPDF langchain-community sentence-transformers\n",
        "print(\"✅ Setup complete!\")"
      ]
    },
    {
      "cell_type": "code",
      "execution_count": null,
      "metadata": {
        "colab": {
          "base_uri": "https://localhost:8080/"
        },
        "id": "0k8pvaKpOgFZ",
        "outputId": "6f7a241b-aebc-4f26-d79b-3fc5249c3820"
      },
      "outputs": [
        {
          "name": "stdout",
          "output_type": "stream",
          "text": [
            "✅ API configured!\n"
          ]
        }
      ],
      "source": [
        "# Configure API and Imports\n",
        "from google.colab import userdata\n",
        "import google.generativeai as genai\n",
        "from langchain.vectorstores import Chroma\n",
        "from langchain_google_genai import ChatGoogleGenerativeAI, GoogleGenerativeAIEmbeddings\n",
        "from langchain.document_loaders import PyMuPDFLoader\n",
        "from langchain.text_splitter import RecursiveCharacterTextSplitter\n",
        "from langchain.chains import RetrievalQA\n",
        "\n",
        "# Get API key and configure\n",
        "API_KEY = userdata.get('MY_GEMINI_KEY')\n",
        "os.environ[\"GOOGLE_API_KEY\"] = API_KEY\n",
        "genai.configure(api_key=API_KEY)\n",
        "print(\"✅ API configured!\")"
      ]
    },
    {
      "cell_type": "code",
      "execution_count": null,
      "metadata": {
        "colab": {
          "base_uri": "https://localhost:8080/",
          "height": 108
        },
        "id": "B7Gru4rlQS_K",
        "outputId": "8a1a9bee-0db0-4281-8892-1f9178cc70f6"
      },
      "outputs": [
        {
          "data": {
            "text/html": [
              "\n",
              "     <input type=\"file\" id=\"files-907a263d-cadd-4ba9-abfb-ab8e426e3d80\" name=\"files[]\" multiple disabled\n",
              "        style=\"border:none\" />\n",
              "     <output id=\"result-907a263d-cadd-4ba9-abfb-ab8e426e3d80\">\n",
              "      Upload widget is only available when the cell has been executed in the\n",
              "      current browser session. Please rerun this cell to enable.\n",
              "      </output>\n",
              "      <script>// Copyright 2017 Google LLC\n",
              "//\n",
              "// Licensed under the Apache License, Version 2.0 (the \"License\");\n",
              "// you may not use this file except in compliance with the License.\n",
              "// You may obtain a copy of the License at\n",
              "//\n",
              "//      http://www.apache.org/licenses/LICENSE-2.0\n",
              "//\n",
              "// Unless required by applicable law or agreed to in writing, software\n",
              "// distributed under the License is distributed on an \"AS IS\" BASIS,\n",
              "// WITHOUT WARRANTIES OR CONDITIONS OF ANY KIND, either express or implied.\n",
              "// See the License for the specific language governing permissions and\n",
              "// limitations under the License.\n",
              "\n",
              "/**\n",
              " * @fileoverview Helpers for google.colab Python module.\n",
              " */\n",
              "(function(scope) {\n",
              "function span(text, styleAttributes = {}) {\n",
              "  const element = document.createElement('span');\n",
              "  element.textContent = text;\n",
              "  for (const key of Object.keys(styleAttributes)) {\n",
              "    element.style[key] = styleAttributes[key];\n",
              "  }\n",
              "  return element;\n",
              "}\n",
              "\n",
              "// Max number of bytes which will be uploaded at a time.\n",
              "const MAX_PAYLOAD_SIZE = 100 * 1024;\n",
              "\n",
              "function _uploadFiles(inputId, outputId) {\n",
              "  const steps = uploadFilesStep(inputId, outputId);\n",
              "  const outputElement = document.getElementById(outputId);\n",
              "  // Cache steps on the outputElement to make it available for the next call\n",
              "  // to uploadFilesContinue from Python.\n",
              "  outputElement.steps = steps;\n",
              "\n",
              "  return _uploadFilesContinue(outputId);\n",
              "}\n",
              "\n",
              "// This is roughly an async generator (not supported in the browser yet),\n",
              "// where there are multiple asynchronous steps and the Python side is going\n",
              "// to poll for completion of each step.\n",
              "// This uses a Promise to block the python side on completion of each step,\n",
              "// then passes the result of the previous step as the input to the next step.\n",
              "function _uploadFilesContinue(outputId) {\n",
              "  const outputElement = document.getElementById(outputId);\n",
              "  const steps = outputElement.steps;\n",
              "\n",
              "  const next = steps.next(outputElement.lastPromiseValue);\n",
              "  return Promise.resolve(next.value.promise).then((value) => {\n",
              "    // Cache the last promise value to make it available to the next\n",
              "    // step of the generator.\n",
              "    outputElement.lastPromiseValue = value;\n",
              "    return next.value.response;\n",
              "  });\n",
              "}\n",
              "\n",
              "/**\n",
              " * Generator function which is called between each async step of the upload\n",
              " * process.\n",
              " * @param {string} inputId Element ID of the input file picker element.\n",
              " * @param {string} outputId Element ID of the output display.\n",
              " * @return {!Iterable<!Object>} Iterable of next steps.\n",
              " */\n",
              "function* uploadFilesStep(inputId, outputId) {\n",
              "  const inputElement = document.getElementById(inputId);\n",
              "  inputElement.disabled = false;\n",
              "\n",
              "  const outputElement = document.getElementById(outputId);\n",
              "  outputElement.innerHTML = '';\n",
              "\n",
              "  const pickedPromise = new Promise((resolve) => {\n",
              "    inputElement.addEventListener('change', (e) => {\n",
              "      resolve(e.target.files);\n",
              "    });\n",
              "  });\n",
              "\n",
              "  const cancel = document.createElement('button');\n",
              "  inputElement.parentElement.appendChild(cancel);\n",
              "  cancel.textContent = 'Cancel upload';\n",
              "  const cancelPromise = new Promise((resolve) => {\n",
              "    cancel.onclick = () => {\n",
              "      resolve(null);\n",
              "    };\n",
              "  });\n",
              "\n",
              "  // Wait for the user to pick the files.\n",
              "  const files = yield {\n",
              "    promise: Promise.race([pickedPromise, cancelPromise]),\n",
              "    response: {\n",
              "      action: 'starting',\n",
              "    }\n",
              "  };\n",
              "\n",
              "  cancel.remove();\n",
              "\n",
              "  // Disable the input element since further picks are not allowed.\n",
              "  inputElement.disabled = true;\n",
              "\n",
              "  if (!files) {\n",
              "    return {\n",
              "      response: {\n",
              "        action: 'complete',\n",
              "      }\n",
              "    };\n",
              "  }\n",
              "\n",
              "  for (const file of files) {\n",
              "    const li = document.createElement('li');\n",
              "    li.append(span(file.name, {fontWeight: 'bold'}));\n",
              "    li.append(span(\n",
              "        `(${file.type || 'n/a'}) - ${file.size} bytes, ` +\n",
              "        `last modified: ${\n",
              "            file.lastModifiedDate ? file.lastModifiedDate.toLocaleDateString() :\n",
              "                                    'n/a'} - `));\n",
              "    const percent = span('0% done');\n",
              "    li.appendChild(percent);\n",
              "\n",
              "    outputElement.appendChild(li);\n",
              "\n",
              "    const fileDataPromise = new Promise((resolve) => {\n",
              "      const reader = new FileReader();\n",
              "      reader.onload = (e) => {\n",
              "        resolve(e.target.result);\n",
              "      };\n",
              "      reader.readAsArrayBuffer(file);\n",
              "    });\n",
              "    // Wait for the data to be ready.\n",
              "    let fileData = yield {\n",
              "      promise: fileDataPromise,\n",
              "      response: {\n",
              "        action: 'continue',\n",
              "      }\n",
              "    };\n",
              "\n",
              "    // Use a chunked sending to avoid message size limits. See b/62115660.\n",
              "    let position = 0;\n",
              "    do {\n",
              "      const length = Math.min(fileData.byteLength - position, MAX_PAYLOAD_SIZE);\n",
              "      const chunk = new Uint8Array(fileData, position, length);\n",
              "      position += length;\n",
              "\n",
              "      const base64 = btoa(String.fromCharCode.apply(null, chunk));\n",
              "      yield {\n",
              "        response: {\n",
              "          action: 'append',\n",
              "          file: file.name,\n",
              "          data: base64,\n",
              "        },\n",
              "      };\n",
              "\n",
              "      let percentDone = fileData.byteLength === 0 ?\n",
              "          100 :\n",
              "          Math.round((position / fileData.byteLength) * 100);\n",
              "      percent.textContent = `${percentDone}% done`;\n",
              "\n",
              "    } while (position < fileData.byteLength);\n",
              "  }\n",
              "\n",
              "  // All done.\n",
              "  yield {\n",
              "    response: {\n",
              "      action: 'complete',\n",
              "    }\n",
              "  };\n",
              "}\n",
              "\n",
              "scope.google = scope.google || {};\n",
              "scope.google.colab = scope.google.colab || {};\n",
              "scope.google.colab._files = {\n",
              "  _uploadFiles,\n",
              "  _uploadFilesContinue,\n",
              "};\n",
              "})(self);\n",
              "</script> "
            ],
            "text/plain": [
              "<IPython.core.display.HTML object>"
            ]
          },
          "metadata": {},
          "output_type": "display_data"
        },
        {
          "name": "stdout",
          "output_type": "stream",
          "text": [
            "Saving NIPS-2017-attention-is-all-you-need-Paper.pdf to NIPS-2017-attention-is-all-you-need-Paper.pdf\n",
            "✅ NIPS-2017-attention-is-all-you-need-Paper.pdf\n",
            "📚 2 PDFs ready\n"
          ]
        }
      ],
      "source": [
        "# Upload Documents\n",
        "from google.colab import files\n",
        "import shutil\n",
        "\n",
        "uploaded = files.upload()\n",
        "\n",
        "for filename in uploaded.keys():\n",
        "    if filename.endswith('.pdf'):\n",
        "        shutil.move(filename, f'docs/{filename}')\n",
        "        print(f\"✅ {filename}\")\n",
        "\n",
        "print(f\"📚 {len([f for f in os.listdir('docs') if f.endswith('.pdf')])} PDFs ready\")"
      ]
    },
    {
      "cell_type": "code",
      "execution_count": null,
      "metadata": {
        "colab": {
          "base_uri": "https://localhost:8080/"
        },
        "id": "6VMky6pNQdzL",
        "outputId": "fafda6c6-cff1-4eaf-efad-3f309da92d4b"
      },
      "outputs": [
        {
          "name": "stdout",
          "output_type": "stream",
          "text": [
            "📄 23 pages → 76 chunks\n"
          ]
        }
      ],
      "source": [
        "#Load and Process Documents\n",
        "documents = []\n",
        "for filename in os.listdir(\"docs\"):\n",
        "    if filename.endswith(\".pdf\"):\n",
        "        loader = PyMuPDFLoader(f\"docs/{filename}\")\n",
        "        documents.extend(loader.load())\n",
        "\n",
        "text_splitter = RecursiveCharacterTextSplitter(chunk_size=1000, chunk_overlap=200)\n",
        "chunks = text_splitter.split_documents(documents)\n",
        "\n",
        "print(f\"📄 {len(documents)} pages → {len(chunks)} chunks\")"
      ]
    },
    {
      "cell_type": "code",
      "execution_count": null,
      "metadata": {
        "colab": {
          "base_uri": "https://localhost:8080/"
        },
        "id": "yyan5eiaQfmg",
        "outputId": "ec7dc70c-0417-4cad-c8fa-cffd8c2a116e"
      },
      "outputs": [
        {
          "name": "stdout",
          "output_type": "stream",
          "text": [
            "🗄️ Vector database ready!\n"
          ]
        }
      ],
      "source": [
        "#  Create Vector Database\n",
        "embeddings = GoogleGenerativeAIEmbeddings(model=\"models/embedding-001\")\n",
        "vectordb = Chroma.from_documents(chunks, embeddings, persist_directory='db')\n",
        "retriever = vectordb.as_retriever()\n",
        "llm = ChatGoogleGenerativeAI(model=\"gemini-1.5-flash\", temperature=0.2)\n",
        "print(\"🗄️ Vector database ready!\")"
      ]
    },
    {
      "cell_type": "code",
      "execution_count": null,
      "metadata": {
        "id": "AmwoVmthQkPK"
      },
      "outputs": [],
      "source": [
        "# Define Chat Functions\n",
        "def ask_llm_only(query):\n",
        "    prompt = f\"Answer only if confident. If unsure, say 'UNSURE'.\\n\\nQuestion: {query}\"\n",
        "    response = llm.invoke(prompt)\n",
        "    content = response.content if hasattr(response, \"content\") else str(response)\n",
        "\n",
        "    if \"unsure\" in content.lower() or \"don't know\" in content.lower():\n",
        "        return None\n",
        "    return content\n",
        "\n",
        "def ask_with_docs(query):\n",
        "    qa_chain = RetrievalQA.from_chain_type(llm=llm, retriever=retriever, return_source_documents=True)\n",
        "    response = qa_chain.invoke({\"query\": query})\n",
        "    return response[\"result\"]\n",
        "\n"
      ]
    },
    {
      "cell_type": "code",
      "execution_count": null,
      "metadata": {
        "colab": {
          "background_save": true,
          "base_uri": "https://localhost:8080/"
        },
        "id": "JR8HabVCRIx9",
        "outputId": "47f9a5d7-a8d3-414e-80bd-68ffe4767edb"
      },
      "outputs": [
        {
          "name": "stdout",
          "output_type": "stream",
          "text": [
            "\n",
            "💬 RAG Chatbot Started! (type 'exit' to stop)\n",
            "🔍 Watch for [DIRECT] vs [RAG] indicators!\n",
            "\n",
            "\n",
            "[DIRECT] 🧠 AI: Hey\n",
            "\n",
            "\n",
            "[DIRECT] 🧠 AI: An attention mechanism is a technique in deep learning that allows a model to focus on different parts of its input when processing it.  Instead of processing the entire input equally, it assigns weights to different parts, emphasizing the most relevant information for the current task.  This allows the model to handle long sequences of data more effectively and capture complex relationships between different parts of the input.\n",
            "\n",
            "\n",
            "[DIRECT] 🧠 AI: RNNs (Recurrent Neural Networks) process sequential data, maintaining a hidden state that carries information from previous inputs.  CNNs (Convolutional Neural Networks) process grid-like data (like images) using convolutional filters to detect features.  The key difference lies in their architecture and the type of data they excel at processing.\n",
            "\n",
            "🔍 LLM unsure → Searching documents...\n",
            "\n",
            "[RAG] 📚 AI: The Transformer (big) model achieved a BLEU score of 28.4 on the WMT 2014 English-to-German translation task.  The base model achieved a BLEU score of 27.3.\n",
            "\n",
            "🔍 LLM unsure → Searching documents...\n",
            "\n",
            "[RAG] 📚 AI: The Transformer models achieved better BLEU scores than previous state-of-the-art models at a fraction of the training cost.  Specifically, the Transformer (base model) had a training cost significantly lower than all other models listed in Table 2, and even the Transformer (big) model had a lower training cost than many of the others.  The provided text gives the exact FLOP counts for each model, allowing for a precise comparison.\n",
            "\n",
            "\n",
            "[DIRECT] 🧠 AI: Ashish Vaswani, Noam Shazeer, Niki Parmar, Jakob Uszkoreit, Llion Jones, Aidan N. Gomez, Lukasz Kaiser, Illia Polosukhin\n",
            "\n",
            "🔍 LLM unsure → Searching documents...\n",
            "\n",
            "[RAG] 📚 AI: The base model used a dropout rate (Pdrop) of 0.1.\n",
            "\n",
            "🔍 LLM unsure → Searching documents...\n",
            "\n",
            "[RAG] 📚 AI: The provided text states that `warmup_steps = 4000`, but doesn't specify the total number of training steps.  The training time is given as 3.5 days.\n",
            "\n",
            "\n",
            "[DIRECT] 🧠 AI: You're welcome.\n",
            "\n"
          ]
        }
      ],
      "source": [
        "# Start Chatbot\n",
        "def chat():\n",
        "    print(\"\\n💬 RAG Chatbot Started! (type 'exit' to stop)\")\n",
        "    print(\"🔍 Watch for [DIRECT] vs [RAG] indicators!\\n\")\n",
        "\n",
        "    while True:\n",
        "        query = input(\"You: \").strip()\n",
        "\n",
        "        if query.lower() == 'exit':\n",
        "            print(\"👋 Goodbye!\")\n",
        "            break\n",
        "\n",
        "        # Try LLM first\n",
        "        response = ask_llm_only(query)\n",
        "\n",
        "        if response:\n",
        "            print(f\"\\n[DIRECT] 🧠 AI: {response}\\n\")\n",
        "        else:\n",
        "            print(\"🔍 LLM unsure → Searching documents...\")\n",
        "            response = ask_with_docs(query)\n",
        "            print(f\"\\n[RAG] 📚 AI: {response}\\n\")\n",
        "\n",
        "# Start the enhanced chatbot\n",
        "chat()"
      ]
    },
    {
      "cell_type": "code",
      "execution_count": null,
      "metadata": {
        "id": "dSk-LMzGU1Cw"
      },
      "outputs": [],
      "source": []
    }
  ],
  "metadata": {
    "colab": {
      "provenance": []
    },
    "kernelspec": {
      "display_name": "Python 3",
      "name": "python3"
    },
    "language_info": {
      "name": "python"
    }
  },
  "nbformat": 4,
  "nbformat_minor": 0
}